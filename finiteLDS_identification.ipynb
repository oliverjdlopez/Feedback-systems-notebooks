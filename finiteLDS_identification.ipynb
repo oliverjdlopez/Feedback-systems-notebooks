{
 "cells": [
  {
   "cell_type": "code",
   "execution_count": 123,
   "id": "initial_id",
   "metadata": {
    "collapsed": true,
    "ExecuteTime": {
     "end_time": "2023-12-05T10:21:53.584052500Z",
     "start_time": "2023-12-05T10:21:53.549200300Z"
    }
   },
   "outputs": [],
   "source": [
    "\n",
    "import numpy as np\n",
    "import matplotlib.pyplot as plt\n",
    "import scipy.linalg\n",
    "import cvxpy as cvx\n",
    "import time\n",
    "\n",
    "\n",
    "\n",
    "\n"
   ]
  },
  {
   "cell_type": "code",
   "execution_count": 124,
   "outputs": [],
   "source": [
    "#Cell purpose: defining constants\n",
    "#I stayed consistent with their notation as opposed to what we used in class\n",
    "\n",
    "A = np.array([[1, 0.1], [0,1]])\n",
    "B = np.array([[0],[1]])\n",
    "\n",
    "Q = np.array([[1, 0], [0, 0.5]])\n",
    "R = np.array([[1]])\n",
    "\n",
    "P = scipy.linalg.solve_discrete_are(A, B, Q, R)\n",
    "K = -np.linalg.inv(R + B.T @ P @ B) @ B.T @ Q @ P @ A\n",
    "L = A + B@K #true closed loop matrix\n",
    "\n",
    "T = 30\n",
    "\n"
   ],
   "metadata": {
    "collapsed": false,
    "ExecuteTime": {
     "end_time": "2023-12-05T10:21:53.586062900Z",
     "start_time": "2023-12-05T10:21:53.553218600Z"
    }
   },
   "id": "161a633b0e7020bd"
  },
  {
   "cell_type": "code",
   "execution_count": 125,
   "outputs": [
    {
     "name": "stdout",
     "output_type": "stream",
     "text": [
      "[[0.         0.         0.         0.         0.         0.\n",
      "  0.         0.         0.        ]\n",
      " [1.         0.         0.         0.         0.         0.\n",
      "  0.         0.         0.        ]\n",
      " [0.         0.70710678 0.         0.70710678 0.         0.\n",
      "  0.         0.         0.        ]\n",
      " [0.         0.         0.70710678 0.         0.         0.\n",
      "  0.70710678 0.         0.        ]\n",
      " [0.         0.70710678 0.         0.70710678 0.         0.\n",
      "  0.         0.         0.        ]\n",
      " [0.         0.         0.         0.         1.         0.\n",
      "  0.         0.         0.        ]]\n"
     ]
    }
   ],
   "source": [
    "#Cell purpose: helper functions\n",
    "\n",
    "\n",
    "#input must be square, symmetric matrix\n",
    "def svec(a):\n",
    "    assert a.shape[0] == a.shape[1] and len(a.shape) == 2, \"matrix is not square, or it is not 2D. \"\n",
    "    dim = a.shape[0]\n",
    "    upper_triangular_parts = []\n",
    "    weight = np.sqrt(2)\n",
    "    for d in range(dim):\n",
    "        sliced_row = a[d, d:] \n",
    "        sliced_row[1: ] *= weight #scale off-diagonals for consistency with inner product\n",
    "        upper_triangular_parts.append(sliced_row)\n",
    "    \n",
    "    return np.concatenate(upper_triangular_parts)\n",
    "\n",
    "\n",
    "\n",
    "#n is the dimension of the two square matrices for which we want symm Kron product\n",
    "def get_U(n): \n",
    "    def row_tuple(row, n_rows):\n",
    "        group_num = 1\n",
    "        group_size= n\n",
    "        while row - group_size > 0:\n",
    "            row -= group_size #trying to find group_num for row\n",
    "            group_size -= 1 #group size decreases each pass\n",
    "            group_num += 1 #keep track of group\n",
    "        return (row ,group_num)\n",
    "        # adj_row = row + 1\n",
    "        # group_num = 1\n",
    "        # group_start = 1\n",
    "        # group_end = n\n",
    "        # group_len = n\n",
    "        # while adj_row > group_end: \n",
    "        #     group_len -= 1\n",
    "        #     group_start = group_end + 1\n",
    "        #     group_end += group_len\n",
    "        #     group_num += 1\n",
    "    \n",
    "    def col_tuple(col, n_cols):\n",
    "        idx = col % n\n",
    "        group = col // n\n",
    "        return (group+1, idx+1) #adding 1 to be consistent with paper, but should be able to remove later\n",
    "    n_rows = int((n*(n+1))/2)\n",
    "    n_cols = int(n**2)\n",
    "    U = np.zeros((n_rows, n_cols))\n",
    "    #creating this matrix has a weird form, can't think of a better way to do it than a loop\n",
    "    c = np.divide(1, np.sqrt(2))\n",
    "    for row in range(n_rows):\n",
    "        for col in range(n_cols):\n",
    "            i, j = row_tuple(row, n_rows)\n",
    "            k, l = col_tuple(col, n_cols)\n",
    "            if i==j==k==l:\n",
    "                U[row,col] = 1\n",
    "            elif (i==k and j==l) or (i==l and j==k): #didn't pass first branch, so not all equal\n",
    "                U[row,col] = c\n",
    "            else:\n",
    "                U[row,col] = 0\n",
    "    return U\n",
    "            \n",
    "def symm_kron(A, B): \n",
    "    U = get_U(A.shape[0])\n",
    "    return 0.5 * (U @ (np.kron(A, B) + np.kron(B, A)) @ U.T)\n",
    "\n",
    "def F2_norm(A): \n",
    "    return np.sum(np.power(A, 2))\n",
    "# svec(np.array([[1,2, 3], [1,2,3]])) Throws an error, as is intended\n",
    "\n",
    "print(get_U(3)) #don't want to write the whole 10 x 9 thing, so check manually"
   ],
   "metadata": {
    "collapsed": false,
    "ExecuteTime": {
     "end_time": "2023-12-05T10:21:53.609866400Z",
     "start_time": "2023-12-05T10:21:53.571041300Z"
    }
   },
   "id": "de98a901ba180922"
  },
  {
   "cell_type": "code",
   "execution_count": 125,
   "outputs": [],
   "source": [
    "\n"
   ],
   "metadata": {
    "collapsed": false,
    "ExecuteTime": {
     "end_time": "2023-12-05T10:21:53.610874800Z",
     "start_time": "2023-12-05T10:21:53.578550Z"
    }
   },
   "id": "dd883214b63a380c"
  },
  {
   "cell_type": "code",
   "execution_count": 126,
   "outputs": [],
   "source": [
    "#Cell purpose: simulation\n",
    "T=100\n",
    "\n",
    "\n",
    "# A = np.array([[1, 0.1], [0,1]])\n",
    "# B = np.array([[0, 0.5],[1, -1]])\n",
    "# \n",
    "# Q = np.array([[1, 0], [0, 0.5]])\n",
    "# R = np.array([[1, 0], [0, 1]])\n",
    "# \n",
    "# P = scipy.linalg.solve_discrete_are(A, B, Q, R)\n",
    "# K = -np.linalg.inv(R + B.T @ P @ B) @ B.T @ Q @ P @ A\n",
    "# L = A + B@K #true closed loop matrix\n",
    "\n",
    "A = np.array([[1, 0.1], [0,1]])\n",
    "B = np.array([[0],[1]])\n",
    "\n",
    "Q = np.array([[1, 0], [0, 0.5]])\n",
    "R = np.array([[1]])\n",
    "\n",
    "P = scipy.linalg.solve_discrete_are(A, B, Q, R)\n",
    "K = -np.linalg.inv(R + B.T @ P @ B) @ B.T @ Q @ P @ A\n",
    "L = A + B@K #true closed loop matrix\n",
    "\n",
    "class System:\n",
    "    \n",
    "    def __init__(self, x0, A, B, Q, R, P, K, L_star, reg, sigma):\n",
    "        self.dim = x0.shape[0] #dimension of state space, for now lets say that it's same as action\n",
    "        self.curr_state = x0\n",
    "        self.A = A\n",
    "        self.B = B\n",
    "        self.Q = Q\n",
    "        self.R = R\n",
    "        self.P = P\n",
    "        self.K = K\n",
    "        self.reg = reg\n",
    "        self.sigma = sigma\n",
    "        self.trajectory = []\n",
    "        \n",
    "        self.L_star = L_star\n",
    "        self.P_star = scipy.linalg.solve_discrete_lyapunov(L_star, Q + K.T @ R @ K)\n",
    "        \n",
    "    def reset(self, x0):\n",
    "        self.trajectory = []\n",
    "        self.curr_state = x0\n",
    "        \n",
    "    def step_system(self): \n",
    "        action = self.K @ self.curr_state\n",
    "        next_state = self.A @ self.curr_state + self.B @ action + self.system_noise(self.sigma)\n",
    "        self.curr_state = next_state\n",
    "        return next_state\n",
    "        \n",
    "    def system_noise(self, sigma):\n",
    "      return np.random.normal(scale=sigma, size=(self.dim, 1))\n",
    "  \n",
    "    def sim_trajectory(self,T):\n",
    "        traj = [self.curr_state]\n",
    "        for _ in range(T):\n",
    "            next_state = self.step_system()\n",
    "            traj.append(next_state)                \n",
    "        traj = np.array(traj)\n",
    "        self.trajectory = traj\n",
    "        return traj\n",
    "    \n",
    "    def bound(self):\n",
    "        I = np.eye(self.dim)\n",
    "        P_inf = scipy.linalg.solve_discrete_lyapunov(self.L_star.T, sigma**2 * I)\n",
    "        #Should I be using pinv here?\n",
    "        L_starT = self.L_star.T\n",
    "        sym = symm_kron(L_starT, L_starT)\n",
    "        I = np.eye(sym.shape[0])\n",
    "\n",
    "        term1 = np.linalg.inv(I - sym)\n",
    "        term2_mat1 = L_starT @ self.P_star @ self.P_star @L_starT\n",
    "        term2_mat2 = sigma**2 * np.linalg.inv(P_inf)\n",
    "        term2 = symm_kron(term2_mat1, term2_mat2)\n",
    "        term3 = term1.T\n",
    "        \n",
    "        return 4*np.trace((term1 @ term2 @ term3))\n",
    "        \n",
    "    def estimate_L_hat(self, T):\n",
    "        #TODO: convert to mat mul\n",
    "        term1 = 0\n",
    "        term2 = 0\n",
    "        for t in range(T): \n",
    "            term1 += self.trajectory[t+1] @ self.trajectory[t].T\n",
    "            term2 += self.trajectory[t] @ self.trajectory[t].T\n",
    "        term2 += self.reg * np.eye(self.dim)\n",
    "        return term1 @ np.linalg.pinv(term2)\n",
    "    \n",
    "    \n",
    "    def P_plug(self, T):\n",
    "        return scipy.linalg.solve_discrete_lyapunov(self.estimate_L_hat(T), self.Q + self.K.T @ self.R @ self.K)\n",
    "        \n",
    "        \n",
    "\n"
   ],
   "metadata": {
    "collapsed": false,
    "ExecuteTime": {
     "end_time": "2023-12-05T10:21:53.612872200Z",
     "start_time": "2023-12-05T10:21:53.595048900Z"
    }
   },
   "id": "1a6047b52e793386"
  },
  {
   "cell_type": "code",
   "execution_count": 138,
   "outputs": [
    {
     "name": "stdout",
     "output_type": "stream",
     "text": [
      "[3102.369018343526, 20013.9330953357, 15844.058477672395, 2714.592553425727, 7306.740555753395, 1114.2742675762188, 2820.3201715850546, 911.5225380819693, 9635.66677854644, 3994.888591422594, 3591.207300394938, 1922.1406567044833, 5260.311309062244, 6186.956002959539, 6190.451152531851, 5967.9363094733535, 2443.9759606603398, 5071.477700100018, 2927.3272056007218, 4850.453407334429, 2252.1775327477562, 2558.7414118387337, 3432.9966976230803, 2151.4675985389576, 9944.385615754585, 1433.8325953974847, 3926.407974904567, 5593.512622994356, 2902.7514072618446, 2169.1624842330393, 1776.1358062943818, 3103.8730610907837, 1635.022241875392, 1743.9354878260704, 807.2173483115212, 3621.315205916441, 2932.977060771859, 6796.520872637157, 4469.578486029233, 4239.2237113009805, 3920.224420331581, 2757.4694602750355, 3881.865307608731, 5082.222176772708, 3767.1780002740356, 4306.464527539238, 4180.031836057097, 2639.5845881912624, 5829.731257617371, 4475.626119710288, 4673.86872952349, 4612.493149719312, 2660.9926130443755, 3635.2752111897125, 3808.0781494019475, 5658.167096590475, 5011.204665806848, 4953.357734915812, 4052.786738849639, 3650.1638798795166, 5486.043401395994, 1733.836090538804, 9940.782525535818, 1566.6294490807709, 3542.6382361061746, 3470.186078841657, 3553.029471591521, 3294.0606668449823, 3156.865028257086, 4549.452386296149, 3472.928463712452, 3344.0612254214657, 6196.287697210602, 4537.625647081504, 5138.620101259561, 1921.1579825768943, 3469.3435616883494, 5757.9698321039505, 1425.0070470944888, 6132.332104433739, 2638.006898767391, 1282.0423397072784, 4679.473297910163, 3066.0290860442637, 2220.208598169127, 4003.667659103009, 2513.5879792618716, 6197.88735754748, 4448.200262494042, 3304.1048474534155, 2629.3438862815615, 1926.9655153120682, 5550.190603528, 1463.607263067456, 3217.784253803108, 2738.138304645244, 5467.298155175879, 2023.9114514367132, 4709.401826718649, 2964.9998139054355, 2241.5692405146565, 2229.6780590726107, 1091.420183494102, 2143.0595692141965, 5641.979833971008, 1752.9654522618298, 3386.8952656737083, 3965.8509391524103, 2491.1737493120927, 2137.762757040925, 5886.694324148194, 6362.690569481137, 3816.500050914502, 6179.174543668929, 4805.717975146121, 1784.646583433731, 1673.3192649896841, 3789.4265052008027, 2320.171651409932, 4985.308096931301, 8397.120240183476, 5914.384193645002, 2110.748966266291, 5643.38573203066, 2629.3059990629044, 3288.995109540118, 3385.1966826044018, 4177.659475349352, 3182.3327803968614, 4701.813396456641, 2301.130587255366, 3714.215932755718, 5245.293585830363, 3341.8618641490875, 5815.2259458940225, 1957.4908509692373, 2360.1113666925276, 4605.889486845719, 4438.492423515281, 5226.901047845174, 4101.419897345558, 5298.743052876758, 4414.928687024401, 2558.6355337312975, 1926.0841880195917, 4811.645404570405, 5569.360316599612, 3629.618390963487, 5013.708917518666, 3768.6239909470046, 8523.146730940738, 2625.7950434622953, 5631.559207964727, 5833.845837176813, 3248.910660315211, 3710.4779473649264, 3567.007318624578, 1341.2689429298018, 3559.5017064781955, 5379.128673330868, 5266.3695340968325, 3802.0918521583603, 4611.195770548251, 3585.921993461988, 3454.8115520577, 3067.860351614789, 5171.804421655383, 1939.7902164536195, 1540.2744660642975, 3807.463353043284, 4549.712263271484, 2826.1045972304864, 2445.67950889455, 4062.780509321134, 5445.822295403415, 2218.9845311583313, 2059.3789294007165, 4174.202556904215, 2604.1714086358743, 3490.594506011029, 3291.6081483006574, 1444.4451052097647, 1482.6754819814155, 1776.914896890492, 2434.593330110856, 4491.358019627392, 2550.048398321451, 2749.453661676576, 3119.496265376896, 7251.200960139085, 1654.7945812064027, 2261.6257827579007, 3905.960778622683, 3055.34272121661, 2488.176917679135, 1744.985519813446, 5165.2927819066645, 2852.500790997914, 3816.821641520496]\n",
      "11602.767343508087\n"
     ]
    }
   ],
   "source": [
    "#Cell purpose: main\n",
    "Ts = [i*10 for i in range(1, 200)]\n",
    "x0 = np.random.rand(2,1)\n",
    "sigma = 0.5\n",
    "reg = 0.1\n",
    "\n",
    "syst = System(x0, A, B, Q, R, P, K, L, reg, sigma)\n",
    "risks = []\n",
    "trajs = []\n",
    "n_sims = 10\n",
    "for T in Ts:\n",
    "    Trisk = 0\n",
    "    #average over 10 sims\n",
    "    for i in range(n_sims):\n",
    "        syst.reset(x0)\n",
    "        trajs.append(syst.sim_trajectory(T))\n",
    "        diff = F2_norm(syst.P_star - syst.P_plug(T))\n",
    "        Trisk += diff\n",
    "    risks.append(Trisk * T / n_sims)\n",
    "print(risks)\n",
    "print(syst.bound())"
   ],
   "metadata": {
    "collapsed": false,
    "ExecuteTime": {
     "end_time": "2023-12-05T10:45:30.428270Z",
     "start_time": "2023-12-05T10:44:16.404038200Z"
    }
   },
   "id": "e8dd3f5b8379db70"
  },
  {
   "cell_type": "code",
   "execution_count": 139,
   "outputs": [
    {
     "data": {
      "text/plain": "<Figure size 1000x500 with 1 Axes>",
      "image/png": "[encoded data removed]"
     },
     "metadata": {},
     "output_type": "display_data"
    }
   ],
   "source": [
    "#Cell purpose: plotting\n",
    "\n",
    "def plot_risks(risks, timesteps, bound):\n",
    "    colors = iter(plt.cm.rainbow(np.linspace(0, 0.5, len(timesteps))))\n",
    "    plt.figure(figsize=[10,5])\n",
    "    for r, t, c in zip(risks, timesteps, colors):\n",
    "        plt.plot(t, r, '.', color=c)\n",
    "        plt.plot(t, r, alpha=0.5, color=c)\n",
    "    plt.axhline(y=bound, label = \"Theoretical asymptotic bound\")\n",
    "    plt.legend(loc=\"upper left\")\n",
    "    plt.xlabel(\"Time\")\n",
    "    plt.ylabel(\"Risk\")\n",
    "    plt.grid()\n",
    "\n",
    "# plot_trajectories(trajs)\n",
    "plot_risks(risks, Ts, syst.bound())"
   ],
   "metadata": {
    "collapsed": false,
    "ExecuteTime": {
     "end_time": "2023-12-05T10:48:03.488026700Z",
     "start_time": "2023-12-05T10:48:02.374618600Z"
    }
   },
   "id": "715d61af9db221f7"
  },
  {
   "cell_type": "code",
   "execution_count": 128,
   "outputs": [],
   "source": [
    "\n",
    "\n",
    "\n",
    "\n",
    "\n"
   ],
   "metadata": {
    "collapsed": false,
    "ExecuteTime": {
     "end_time": "2023-12-05T10:22:02.383819200Z",
     "start_time": "2023-12-05T10:22:02.381761500Z"
    }
   },
   "id": "b0fab3831eb2b8e1"
  },
  {
   "cell_type": "code",
   "execution_count": 128,
   "outputs": [],
   "source": [],
   "metadata": {
    "collapsed": false,
    "ExecuteTime": {
     "end_time": "2023-12-05T10:22:02.392122Z",
     "start_time": "2023-12-05T10:22:02.386100600Z"
    }
   },
   "id": "ed038e601df80cb2"
  }
 ],
 "metadata": {
  "kernelspec": {
   "display_name": "Python 3",
   "language": "python",
   "name": "python3"
  },
  "language_info": {
   "codemirror_mode": {
    "name": "ipython",
    "version": 2
   },
   "file_extension": ".py",
   "mimetype": "text/x-python",
   "name": "python",
   "nbconvert_exporter": "python",
   "pygments_lexer": "ipython2",
   "version": "2.7.6"
  }
 },
 "nbformat": 4,
 "nbformat_minor": 5
}
